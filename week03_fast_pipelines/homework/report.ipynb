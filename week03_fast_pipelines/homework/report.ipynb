{
 "cells": [
  {
   "cell_type": "code",
   "execution_count": 1,
   "metadata": {},
   "outputs": [
    {
     "name": "stdout",
     "output_type": "stream",
     "text": [
      "env: CUDA_VISIBLE_DEVICES=0 TOKENIZERS_PARALLELISM=true\n"
     ]
    }
   ],
   "source": [
    "%env CUDA_VISIBLE_DEVICES=0 TOKENIZERS_PARALLELISM=true"
   ]
  },
  {
   "cell_type": "markdown",
   "metadata": {},
   "source": [
    "### Task 1"
   ]
  },
  {
   "cell_type": "code",
   "execution_count": 2,
   "metadata": {},
   "outputs": [],
   "source": [
    "from task1.train import train"
   ]
  },
  {
   "cell_type": "code",
   "execution_count": 3,
   "metadata": {},
   "outputs": [
    {
     "name": "stderr",
     "output_type": "stream",
     "text": [
      "Loss: 0.6231 Accuracy: 92.0922: 100%|██████████| 40/40 [00:39<00:00,  1.00it/s]\n",
      "Loss: 0.6219 Accuracy: 90.974: 100%|██████████| 40/40 [00:39<00:00,  1.01it/s] \n",
      "Loss: 0.621 Accuracy: 92.521: 100%|██████████| 40/40 [00:39<00:00,  1.01it/s]  \n",
      "Loss: 0.6141 Accuracy: 93.0211: 100%|██████████| 40/40 [00:40<00:00,  1.02s/it]\n",
      "Loss: 0.6165 Accuracy: 92.918: 100%|██████████| 40/40 [00:39<00:00,  1.02it/s] \n"
     ]
    }
   ],
   "source": [
    "train(with_amp=False, scaler_type=None)"
   ]
  },
  {
   "cell_type": "code",
   "execution_count": 4,
   "metadata": {},
   "outputs": [
    {
     "name": "stderr",
     "output_type": "stream",
     "text": [
      "Loss: 0.6091 Accuracy: 95.3675: 100%|██████████| 40/40 [00:38<00:00,  1.05it/s]\n",
      "Loss: 0.5882 Accuracy: 97.2307: 100%|██████████| 40/40 [00:40<00:00,  1.02s/it]\n",
      "Loss: 0.5855 Accuracy: 98.028: 100%|██████████| 40/40 [00:37<00:00,  1.07it/s] \n",
      "Loss: 0.5875 Accuracy: 98.6241: 100%|██████████| 40/40 [00:39<00:00,  1.02it/s]\n",
      "Loss: 0.5857 Accuracy: 98.6872: 100%|██████████| 40/40 [00:38<00:00,  1.05it/s]\n"
     ]
    }
   ],
   "source": [
    "train(with_amp=True, scaler_type=\"static\")"
   ]
  },
  {
   "cell_type": "code",
   "execution_count": 5,
   "metadata": {},
   "outputs": [
    {
     "name": "stderr",
     "output_type": "stream",
     "text": [
      "Loss: 0.607 Accuracy: 94.4436: 100%|██████████| 40/40 [00:36<00:00,  1.11it/s] \n",
      "Loss: 0.5916 Accuracy: 97.7065: 100%|██████████| 40/40 [00:39<00:00,  1.02it/s]\n",
      "Loss: 0.5886 Accuracy: 98.324: 100%|██████████| 40/40 [00:37<00:00,  1.07it/s] \n",
      "Loss: 0.583 Accuracy: 98.5087: 100%|██████████| 40/40 [00:40<00:00,  1.00s/it] \n",
      "Loss: 0.5847 Accuracy: 98.7843: 100%|██████████| 40/40 [00:38<00:00,  1.05it/s]\n"
     ]
    }
   ],
   "source": [
    "train(with_amp=True, scaler_type=\"dynamic\")"
   ]
  },
  {
   "cell_type": "markdown",
   "metadata": {},
   "source": [
    "### Task 2"
   ]
  },
  {
   "cell_type": "code",
   "execution_count": 2,
   "metadata": {},
   "outputs": [],
   "source": [
    "from task2.run_epoch import run_epoch, DataMode\n",
    "from task2.dataset import get_texts"
   ]
  },
  {
   "cell_type": "code",
   "execution_count": 4,
   "metadata": {},
   "outputs": [],
   "source": [
    "data_path = \"task2/wikitext-103-raw-v1/train-00000-of-00002.txt\"\n",
    "texts = list(get_texts(data_path, max_lines=300000))"
   ]
  },
  {
   "cell_type": "code",
   "execution_count": 4,
   "metadata": {},
   "outputs": [
    {
     "name": "stderr",
     "output_type": "stream",
     "text": [
      "100%|██████████| 300001/300001 [01:10<00:00, 4261.77it/s]\n",
      "100%|██████████| 18751/18751 [31:05<00:00, 10.05it/s]\n"
     ]
    },
    {
     "data": {
      "text/html": [
       "<div>\n",
       "<style scoped>\n",
       "    .dataframe tbody tr th:only-of-type {\n",
       "        vertical-align: middle;\n",
       "    }\n",
       "\n",
       "    .dataframe tbody tr th {\n",
       "        vertical-align: top;\n",
       "    }\n",
       "\n",
       "    .dataframe thead th {\n",
       "        text-align: right;\n",
       "    }\n",
       "</style>\n",
       "<table border=\"1\" class=\"dataframe\">\n",
       "  <thead>\n",
       "    <tr style=\"text-align: right;\">\n",
       "      <th></th>\n",
       "      <th>pad_token_ratio</th>\n",
       "      <th>time</th>\n",
       "    </tr>\n",
       "  </thead>\n",
       "  <tbody>\n",
       "    <tr>\n",
       "      <th>count</th>\n",
       "      <td>18746.000000</td>\n",
       "      <td>18746.000000</td>\n",
       "    </tr>\n",
       "    <tr>\n",
       "      <th>mean</th>\n",
       "      <td>0.844768</td>\n",
       "      <td>0.099114</td>\n",
       "    </tr>\n",
       "    <tr>\n",
       "      <th>std</th>\n",
       "      <td>0.036115</td>\n",
       "      <td>0.001630</td>\n",
       "    </tr>\n",
       "    <tr>\n",
       "      <th>min</th>\n",
       "      <td>0.679980</td>\n",
       "      <td>0.032973</td>\n",
       "    </tr>\n",
       "    <tr>\n",
       "      <th>25%</th>\n",
       "      <td>0.821191</td>\n",
       "      <td>0.098730</td>\n",
       "    </tr>\n",
       "    <tr>\n",
       "      <th>50%</th>\n",
       "      <td>0.846289</td>\n",
       "      <td>0.098950</td>\n",
       "    </tr>\n",
       "    <tr>\n",
       "      <th>75%</th>\n",
       "      <td>0.869824</td>\n",
       "      <td>0.099207</td>\n",
       "    </tr>\n",
       "    <tr>\n",
       "      <th>max</th>\n",
       "      <td>0.966797</td>\n",
       "      <td>0.126127</td>\n",
       "    </tr>\n",
       "  </tbody>\n",
       "</table>\n",
       "</div>"
      ],
      "text/plain": [
       "       pad_token_ratio          time\n",
       "count     18746.000000  18746.000000\n",
       "mean          0.844768      0.099114\n",
       "std           0.036115      0.001630\n",
       "min           0.679980      0.032973\n",
       "25%           0.821191      0.098730\n",
       "50%           0.846289      0.098950\n",
       "75%           0.869824      0.099207\n",
       "max           0.966797      0.126127"
      ]
     },
     "execution_count": 4,
     "metadata": {},
     "output_type": "execute_result"
    }
   ],
   "source": [
    "run_epoch(DataMode.BRAIN, texts)"
   ]
  },
  {
   "cell_type": "code",
   "execution_count": 5,
   "metadata": {},
   "outputs": [
    {
     "name": "stderr",
     "output_type": "stream",
     "text": [
      "100%|██████████| 300001/300001 [01:13<00:00, 4096.46it/s]\n",
      "100%|██████████| 18751/18751 [14:33<00:00, 21.47it/s]\n"
     ]
    },
    {
     "data": {
      "text/html": [
       "<div>\n",
       "<style scoped>\n",
       "    .dataframe tbody tr th:only-of-type {\n",
       "        vertical-align: middle;\n",
       "    }\n",
       "\n",
       "    .dataframe tbody tr th {\n",
       "        vertical-align: top;\n",
       "    }\n",
       "\n",
       "    .dataframe thead th {\n",
       "        text-align: right;\n",
       "    }\n",
       "</style>\n",
       "<table border=\"1\" class=\"dataframe\">\n",
       "  <thead>\n",
       "    <tr style=\"text-align: right;\">\n",
       "      <th></th>\n",
       "      <th>pad_token_ratio</th>\n",
       "      <th>time</th>\n",
       "    </tr>\n",
       "  </thead>\n",
       "  <tbody>\n",
       "    <tr>\n",
       "      <th>count</th>\n",
       "      <td>18746.000000</td>\n",
       "      <td>18746.000000</td>\n",
       "    </tr>\n",
       "    <tr>\n",
       "      <th>mean</th>\n",
       "      <td>0.650151</td>\n",
       "      <td>0.046283</td>\n",
       "    </tr>\n",
       "    <tr>\n",
       "      <th>std</th>\n",
       "      <td>0.076858</td>\n",
       "      <td>0.012042</td>\n",
       "    </tr>\n",
       "    <tr>\n",
       "      <th>min</th>\n",
       "      <td>0.000000</td>\n",
       "      <td>0.015003</td>\n",
       "    </tr>\n",
       "    <tr>\n",
       "      <th>25%</th>\n",
       "      <td>0.599435</td>\n",
       "      <td>0.037296</td>\n",
       "    </tr>\n",
       "    <tr>\n",
       "      <th>50%</th>\n",
       "      <td>0.653017</td>\n",
       "      <td>0.043890</td>\n",
       "    </tr>\n",
       "    <tr>\n",
       "      <th>75%</th>\n",
       "      <td>0.704913</td>\n",
       "      <td>0.052716</td>\n",
       "    </tr>\n",
       "    <tr>\n",
       "      <th>max</th>\n",
       "      <td>0.880918</td>\n",
       "      <td>0.110691</td>\n",
       "    </tr>\n",
       "  </tbody>\n",
       "</table>\n",
       "</div>"
      ],
      "text/plain": [
       "       pad_token_ratio          time\n",
       "count     18746.000000  18746.000000\n",
       "mean          0.650151      0.046283\n",
       "std           0.076858      0.012042\n",
       "min           0.000000      0.015003\n",
       "25%           0.599435      0.037296\n",
       "50%           0.653017      0.043890\n",
       "75%           0.704913      0.052716\n",
       "max           0.880918      0.110691"
      ]
     },
     "execution_count": 5,
     "metadata": {},
     "output_type": "execute_result"
    }
   ],
   "source": [
    "run_epoch(DataMode.BIG_BRAIN, texts)"
   ]
  },
  {
   "cell_type": "code",
   "execution_count": 6,
   "metadata": {},
   "outputs": [
    {
     "name": "stderr",
     "output_type": "stream",
     "text": [
      "100%|██████████| 300001/300001 [01:12<00:00, 4112.77it/s]\n",
      "100%|██████████| 18751/18751 [14:37<00:00, 21.36it/s]\n"
     ]
    },
    {
     "data": {
      "text/html": [
       "<div>\n",
       "<style scoped>\n",
       "    .dataframe tbody tr th:only-of-type {\n",
       "        vertical-align: middle;\n",
       "    }\n",
       "\n",
       "    .dataframe tbody tr th {\n",
       "        vertical-align: top;\n",
       "    }\n",
       "\n",
       "    .dataframe thead th {\n",
       "        text-align: right;\n",
       "    }\n",
       "</style>\n",
       "<table border=\"1\" class=\"dataframe\">\n",
       "  <thead>\n",
       "    <tr style=\"text-align: right;\">\n",
       "      <th></th>\n",
       "      <th>pad_token_ratio</th>\n",
       "      <th>time</th>\n",
       "    </tr>\n",
       "  </thead>\n",
       "  <tbody>\n",
       "    <tr>\n",
       "      <th>count</th>\n",
       "      <td>18746.000000</td>\n",
       "      <td>18746.000000</td>\n",
       "    </tr>\n",
       "    <tr>\n",
       "      <th>mean</th>\n",
       "      <td>0.650458</td>\n",
       "      <td>0.046509</td>\n",
       "    </tr>\n",
       "    <tr>\n",
       "      <th>std</th>\n",
       "      <td>0.077305</td>\n",
       "      <td>0.012095</td>\n",
       "    </tr>\n",
       "    <tr>\n",
       "      <th>min</th>\n",
       "      <td>0.000000</td>\n",
       "      <td>0.012021</td>\n",
       "    </tr>\n",
       "    <tr>\n",
       "      <th>25%</th>\n",
       "      <td>0.599560</td>\n",
       "      <td>0.037486</td>\n",
       "    </tr>\n",
       "    <tr>\n",
       "      <th>50%</th>\n",
       "      <td>0.653737</td>\n",
       "      <td>0.044064</td>\n",
       "    </tr>\n",
       "    <tr>\n",
       "      <th>75%</th>\n",
       "      <td>0.704827</td>\n",
       "      <td>0.052992</td>\n",
       "    </tr>\n",
       "    <tr>\n",
       "      <th>max</th>\n",
       "      <td>0.895508</td>\n",
       "      <td>0.108156</td>\n",
       "    </tr>\n",
       "  </tbody>\n",
       "</table>\n",
       "</div>"
      ],
      "text/plain": [
       "       pad_token_ratio          time\n",
       "count     18746.000000  18746.000000\n",
       "mean          0.650458      0.046509\n",
       "std           0.077305      0.012095\n",
       "min           0.000000      0.012021\n",
       "25%           0.599560      0.037486\n",
       "50%           0.653737      0.044064\n",
       "75%           0.704827      0.052992\n",
       "max           0.895508      0.108156"
      ]
     },
     "execution_count": 6,
     "metadata": {},
     "output_type": "execute_result"
    }
   ],
   "source": [
    "run_epoch(DataMode.ULTRA_BIG_BRAIN, texts)"
   ]
  },
  {
   "cell_type": "code",
   "execution_count": 7,
   "metadata": {},
   "outputs": [
    {
     "name": "stderr",
     "output_type": "stream",
     "text": [
      "100%|██████████| 300001/300001 [01:15<00:00, 3962.88it/s]\n",
      "100%|██████████| 18817/18817 [06:34<00:00, 47.74it/s]\n"
     ]
    },
    {
     "data": {
      "text/html": [
       "<div>\n",
       "<style scoped>\n",
       "    .dataframe tbody tr th:only-of-type {\n",
       "        vertical-align: middle;\n",
       "    }\n",
       "\n",
       "    .dataframe tbody tr th {\n",
       "        vertical-align: top;\n",
       "    }\n",
       "\n",
       "    .dataframe thead th {\n",
       "        text-align: right;\n",
       "    }\n",
       "</style>\n",
       "<table border=\"1\" class=\"dataframe\">\n",
       "  <thead>\n",
       "    <tr style=\"text-align: right;\">\n",
       "      <th></th>\n",
       "      <th>pad_token_ratio</th>\n",
       "      <th>time</th>\n",
       "    </tr>\n",
       "  </thead>\n",
       "  <tbody>\n",
       "    <tr>\n",
       "      <th>count</th>\n",
       "      <td>18812.000000</td>\n",
       "      <td>18812.000000</td>\n",
       "    </tr>\n",
       "    <tr>\n",
       "      <th>mean</th>\n",
       "      <td>0.068673</td>\n",
       "      <td>0.020735</td>\n",
       "    </tr>\n",
       "    <tr>\n",
       "      <th>std</th>\n",
       "      <td>0.071873</td>\n",
       "      <td>0.013861</td>\n",
       "    </tr>\n",
       "    <tr>\n",
       "      <th>min</th>\n",
       "      <td>0.000000</td>\n",
       "      <td>0.006112</td>\n",
       "    </tr>\n",
       "    <tr>\n",
       "      <th>25%</th>\n",
       "      <td>0.012083</td>\n",
       "      <td>0.007663</td>\n",
       "    </tr>\n",
       "    <tr>\n",
       "      <th>50%</th>\n",
       "      <td>0.022727</td>\n",
       "      <td>0.018079</td>\n",
       "    </tr>\n",
       "    <tr>\n",
       "      <th>75%</th>\n",
       "      <td>0.143750</td>\n",
       "      <td>0.028911</td>\n",
       "    </tr>\n",
       "    <tr>\n",
       "      <th>max</th>\n",
       "      <td>0.262500</td>\n",
       "      <td>0.099670</td>\n",
       "    </tr>\n",
       "  </tbody>\n",
       "</table>\n",
       "</div>"
      ],
      "text/plain": [
       "       pad_token_ratio          time\n",
       "count     18812.000000  18812.000000\n",
       "mean          0.068673      0.020735\n",
       "std           0.071873      0.013861\n",
       "min           0.000000      0.006112\n",
       "25%           0.012083      0.007663\n",
       "50%           0.022727      0.018079\n",
       "75%           0.143750      0.028911\n",
       "max           0.262500      0.099670"
      ]
     },
     "execution_count": 7,
     "metadata": {},
     "output_type": "execute_result"
    }
   ],
   "source": [
    "run_epoch(DataMode.ULTRA_BIG_BRAIN, texts, k=5)"
   ]
  },
  {
   "cell_type": "code",
   "execution_count": 5,
   "metadata": {},
   "outputs": [
    {
     "name": "stderr",
     "output_type": "stream",
     "text": [
      "100%|██████████| 300001/300001 [01:05<00:00, 4596.88it/s]\n"
     ]
    },
    {
     "data": {
      "text/html": [
       "<div>\n",
       "<style scoped>\n",
       "    .dataframe tbody tr th:only-of-type {\n",
       "        vertical-align: middle;\n",
       "    }\n",
       "\n",
       "    .dataframe tbody tr th {\n",
       "        vertical-align: top;\n",
       "    }\n",
       "\n",
       "    .dataframe thead th {\n",
       "        text-align: right;\n",
       "    }\n",
       "</style>\n",
       "<table border=\"1\" class=\"dataframe\">\n",
       "  <thead>\n",
       "    <tr style=\"text-align: right;\">\n",
       "      <th></th>\n",
       "      <th>pad_token_ratio</th>\n",
       "      <th>time</th>\n",
       "    </tr>\n",
       "  </thead>\n",
       "  <tbody>\n",
       "    <tr>\n",
       "      <th>count</th>\n",
       "      <td>5714.0</td>\n",
       "      <td>5714.000000</td>\n",
       "    </tr>\n",
       "    <tr>\n",
       "      <th>mean</th>\n",
       "      <td>0.0</td>\n",
       "      <td>0.160782</td>\n",
       "    </tr>\n",
       "    <tr>\n",
       "      <th>std</th>\n",
       "      <td>0.0</td>\n",
       "      <td>0.004858</td>\n",
       "    </tr>\n",
       "    <tr>\n",
       "      <th>min</th>\n",
       "      <td>0.0</td>\n",
       "      <td>0.084369</td>\n",
       "    </tr>\n",
       "    <tr>\n",
       "      <th>25%</th>\n",
       "      <td>0.0</td>\n",
       "      <td>0.158971</td>\n",
       "    </tr>\n",
       "    <tr>\n",
       "      <th>50%</th>\n",
       "      <td>0.0</td>\n",
       "      <td>0.161484</td>\n",
       "    </tr>\n",
       "    <tr>\n",
       "      <th>75%</th>\n",
       "      <td>0.0</td>\n",
       "      <td>0.163772</td>\n",
       "    </tr>\n",
       "    <tr>\n",
       "      <th>max</th>\n",
       "      <td>0.0</td>\n",
       "      <td>0.219913</td>\n",
       "    </tr>\n",
       "  </tbody>\n",
       "</table>\n",
       "</div>"
      ],
      "text/plain": [
       "       pad_token_ratio         time\n",
       "count           5714.0  5714.000000\n",
       "mean               0.0     0.160782\n",
       "std                0.0     0.004858\n",
       "min                0.0     0.084369\n",
       "25%                0.0     0.158971\n",
       "50%                0.0     0.161484\n",
       "75%                0.0     0.163772\n",
       "max                0.0     0.219913"
      ]
     },
     "execution_count": 5,
     "metadata": {},
     "output_type": "execute_result"
    }
   ],
   "source": [
    "run_epoch(DataMode.ULTRA_DUPER_BIG_BRAIN, texts)"
   ]
  },
  {
   "cell_type": "markdown",
   "metadata": {},
   "source": [
    "### Task 3"
   ]
  },
  {
   "cell_type": "code",
   "execution_count": 1,
   "metadata": {},
   "outputs": [],
   "source": [
    "from task3.run_epoch import profile_vit"
   ]
  },
  {
   "cell_type": "code",
   "execution_count": 3,
   "metadata": {},
   "outputs": [
    {
     "name": "stdout",
     "output_type": "stream",
     "text": [
      "Dataset already extracted\n",
      "Train Data: 4322\n",
      "Val Data: 1081\n"
     ]
    },
    {
     "name": "stderr",
     "output_type": "stream",
     "text": [
      "Train:   0%|          | 0/4 [00:00<?, ?it/s]"
     ]
    },
    {
     "name": "stderr",
     "output_type": "stream",
     "text": [
      "Train:  75%|███████▌  | 3/4 [01:45<00:35, 35.22s/it]\n"
     ]
    }
   ],
   "source": [
    "own_profiler_summary = profile_vit(\"own\")"
   ]
  },
  {
   "cell_type": "code",
   "execution_count": 6,
   "metadata": {},
   "outputs": [
    {
     "data": {
      "text/html": [
       "<div>\n",
       "<style scoped>\n",
       "    .dataframe tbody tr th:only-of-type {\n",
       "        vertical-align: middle;\n",
       "    }\n",
       "\n",
       "    .dataframe tbody tr th {\n",
       "        vertical-align: top;\n",
       "    }\n",
       "\n",
       "    .dataframe thead th {\n",
       "        text-align: right;\n",
       "    }\n",
       "</style>\n",
       "<table border=\"1\" class=\"dataframe\">\n",
       "  <thead>\n",
       "    <tr style=\"text-align: right;\">\n",
       "      <th></th>\n",
       "      <th></th>\n",
       "      <th>duration (ms)</th>\n",
       "    </tr>\n",
       "    <tr>\n",
       "      <th>function</th>\n",
       "      <th>module</th>\n",
       "      <th></th>\n",
       "    </tr>\n",
       "  </thead>\n",
       "  <tbody>\n",
       "    <tr>\n",
       "      <th>backward</th>\n",
       "      <th>transformer: Transformer</th>\n",
       "      <td>50.510484</td>\n",
       "    </tr>\n",
       "    <tr>\n",
       "      <th>forward</th>\n",
       "      <th>transformer: Transformer</th>\n",
       "      <td>33.093271</td>\n",
       "    </tr>\n",
       "    <tr>\n",
       "      <th rowspan=\"12\" valign=\"top\">backward</th>\n",
       "      <th>transformer.layers.5.0: Attention</th>\n",
       "      <td>2.764512</td>\n",
       "    </tr>\n",
       "    <tr>\n",
       "      <th>transformer.layers.4.0: Attention</th>\n",
       "      <td>2.761995</td>\n",
       "    </tr>\n",
       "    <tr>\n",
       "      <th>transformer.layers.0.0: Attention</th>\n",
       "      <td>2.761248</td>\n",
       "    </tr>\n",
       "    <tr>\n",
       "      <th>transformer.layers.6.0: Attention</th>\n",
       "      <td>2.757941</td>\n",
       "    </tr>\n",
       "    <tr>\n",
       "      <th>transformer.layers.7.0: Attention</th>\n",
       "      <td>2.756245</td>\n",
       "    </tr>\n",
       "    <tr>\n",
       "      <th>transformer.layers.8.0: Attention</th>\n",
       "      <td>2.756000</td>\n",
       "    </tr>\n",
       "    <tr>\n",
       "      <th>transformer.layers.2.0: Attention</th>\n",
       "      <td>2.756000</td>\n",
       "    </tr>\n",
       "    <tr>\n",
       "      <th>transformer.layers.1.0: Attention</th>\n",
       "      <td>2.753973</td>\n",
       "    </tr>\n",
       "    <tr>\n",
       "      <th>transformer.layers.3.0: Attention</th>\n",
       "      <td>2.751563</td>\n",
       "    </tr>\n",
       "    <tr>\n",
       "      <th>transformer.layers.9.0: Attention</th>\n",
       "      <td>2.750667</td>\n",
       "    </tr>\n",
       "    <tr>\n",
       "      <th>transformer.layers.10.0: Attention</th>\n",
       "      <td>2.749995</td>\n",
       "    </tr>\n",
       "    <tr>\n",
       "      <th>transformer.layers.11.0: Attention</th>\n",
       "      <td>2.749749</td>\n",
       "    </tr>\n",
       "    <tr>\n",
       "      <th rowspan=\"3\" valign=\"top\">forward</th>\n",
       "      <th>transformer.layers.8.0: Attention</th>\n",
       "      <td>1.871595</td>\n",
       "    </tr>\n",
       "    <tr>\n",
       "      <th>to_patch_embedding: Sequential</th>\n",
       "      <td>1.801291</td>\n",
       "    </tr>\n",
       "    <tr>\n",
       "      <th>transformer.layers.4.0: Attention</th>\n",
       "      <td>1.550677</td>\n",
       "    </tr>\n",
       "    <tr>\n",
       "      <th>backward</th>\n",
       "      <th>transformer.layers.11.1: FeedForward</th>\n",
       "      <td>1.547936</td>\n",
       "    </tr>\n",
       "    <tr>\n",
       "      <th rowspan=\"2\" valign=\"top\">forward</th>\n",
       "      <th>transformer.layers.2.0: Attention</th>\n",
       "      <td>1.526933</td>\n",
       "    </tr>\n",
       "    <tr>\n",
       "      <th>transformer.layers.6.0: Attention</th>\n",
       "      <td>1.515989</td>\n",
       "    </tr>\n",
       "    <tr>\n",
       "      <th>backward</th>\n",
       "      <th>transformer.layers.11.1.net: Sequential</th>\n",
       "      <td>1.513237</td>\n",
       "    </tr>\n",
       "    <tr>\n",
       "      <th rowspan=\"4\" valign=\"top\">forward</th>\n",
       "      <th>transformer.layers.3.0: Attention</th>\n",
       "      <td>1.503360</td>\n",
       "    </tr>\n",
       "    <tr>\n",
       "      <th>transformer.layers.10.0: Attention</th>\n",
       "      <td>1.481440</td>\n",
       "    </tr>\n",
       "    <tr>\n",
       "      <th>transformer.layers.1.0: Attention</th>\n",
       "      <td>1.464384</td>\n",
       "    </tr>\n",
       "    <tr>\n",
       "      <th>transformer.layers.11.0: Attention</th>\n",
       "      <td>1.436448</td>\n",
       "    </tr>\n",
       "    <tr>\n",
       "      <th>backward</th>\n",
       "      <th>transformer.layers.0.1: FeedForward</th>\n",
       "      <td>1.430923</td>\n",
       "    </tr>\n",
       "    <tr>\n",
       "      <th>forward</th>\n",
       "      <th>transformer.layers.9.0: Attention</th>\n",
       "      <td>1.427381</td>\n",
       "    </tr>\n",
       "    <tr>\n",
       "      <th>backward</th>\n",
       "      <th>transformer.layers.0.1.net: Sequential</th>\n",
       "      <td>1.425675</td>\n",
       "    </tr>\n",
       "    <tr>\n",
       "      <th rowspan=\"2\" valign=\"top\">forward</th>\n",
       "      <th>transformer.layers.5.0: Attention</th>\n",
       "      <td>1.424693</td>\n",
       "    </tr>\n",
       "    <tr>\n",
       "      <th>transformer.layers.7.0: Attention</th>\n",
       "      <td>1.422709</td>\n",
       "    </tr>\n",
       "  </tbody>\n",
       "</table>\n",
       "</div>"
      ],
      "text/plain": [
       "                                                  duration (ms)\n",
       "function module                                                \n",
       "backward transformer: Transformer                     50.510484\n",
       "forward  transformer: Transformer                     33.093271\n",
       "backward transformer.layers.5.0: Attention             2.764512\n",
       "         transformer.layers.4.0: Attention             2.761995\n",
       "         transformer.layers.0.0: Attention             2.761248\n",
       "         transformer.layers.6.0: Attention             2.757941\n",
       "         transformer.layers.7.0: Attention             2.756245\n",
       "         transformer.layers.8.0: Attention             2.756000\n",
       "         transformer.layers.2.0: Attention             2.756000\n",
       "         transformer.layers.1.0: Attention             2.753973\n",
       "         transformer.layers.3.0: Attention             2.751563\n",
       "         transformer.layers.9.0: Attention             2.750667\n",
       "         transformer.layers.10.0: Attention            2.749995\n",
       "         transformer.layers.11.0: Attention            2.749749\n",
       "forward  transformer.layers.8.0: Attention             1.871595\n",
       "         to_patch_embedding: Sequential                1.801291\n",
       "         transformer.layers.4.0: Attention             1.550677\n",
       "backward transformer.layers.11.1: FeedForward          1.547936\n",
       "forward  transformer.layers.2.0: Attention             1.526933\n",
       "         transformer.layers.6.0: Attention             1.515989\n",
       "backward transformer.layers.11.1.net: Sequential       1.513237\n",
       "forward  transformer.layers.3.0: Attention             1.503360\n",
       "         transformer.layers.10.0: Attention            1.481440\n",
       "         transformer.layers.1.0: Attention             1.464384\n",
       "         transformer.layers.11.0: Attention            1.436448\n",
       "backward transformer.layers.0.1: FeedForward           1.430923\n",
       "forward  transformer.layers.9.0: Attention             1.427381\n",
       "backward transformer.layers.0.1.net: Sequential        1.425675\n",
       "forward  transformer.layers.5.0: Attention             1.424693\n",
       "         transformer.layers.7.0: Attention             1.422709"
      ]
     },
     "execution_count": 6,
     "metadata": {},
     "output_type": "execute_result"
    }
   ],
   "source": [
    "own_profiler_summary.sort_values(by=\"duration (ms)\", ascending=False).head(30)"
   ]
  },
  {
   "cell_type": "code",
   "execution_count": 4,
   "metadata": {},
   "outputs": [
    {
     "name": "stdout",
     "output_type": "stream",
     "text": [
      "Dataset already extracted\n",
      "Train Data: 4322\n",
      "Val Data: 1081\n"
     ]
    },
    {
     "name": "stderr",
     "output_type": "stream",
     "text": [
      "Train:   0%|          | 0/17 [00:00<?, ?it/s]"
     ]
    },
    {
     "name": "stderr",
     "output_type": "stream",
     "text": [
      "Train:  18%|█▊        | 3/17 [02:34<11:59, 51.43s/it]\n"
     ]
    }
   ],
   "source": [
    "torch_profiler_summary = profile_vit(\"torch\")"
   ]
  },
  {
   "cell_type": "code",
   "execution_count": 5,
   "metadata": {},
   "outputs": [
    {
     "name": "stdout",
     "output_type": "stream",
     "text": [
      "-------------------------------------------------------  ------------  ------------  ------------  ------------  ------------  ------------  ------------  ------------  ------------  ------------  \n",
      "                                                   Name    Self CPU %      Self CPU   CPU total %     CPU total  CPU time avg     Self CUDA   Self CUDA %    CUDA total  CUDA time avg    # of Calls  \n",
      "-------------------------------------------------------  ------------  ------------  ------------  ------------  ------------  ------------  ------------  ------------  ------------  ------------  \n",
      "                                               aten::mm         0.01%      10.058ms         0.02%      15.930ms      29.016us     137.431ms        35.09%     137.431ms     250.329us           549  \n",
      "void cutlass::Kernel<cutlass_80_simt_sgemm_32x128_8x...         0.00%       0.000us         0.00%       0.000us       0.000us     113.860ms        29.07%     113.860ms     443.037us           257  \n",
      "                                          ProfilerStep*         0.00%       0.000us         0.00%       0.000us       0.000us     105.067ms        26.83%     105.067ms      35.022ms             3  \n",
      "                                          ProfilerStep*         0.14%     120.362ms        99.90%       85.733s       28.578s       0.000us         0.00%     102.821ms      34.274ms             3  \n",
      "    autograd::engine::evaluate_function: AddmmBackward0         0.00%       1.764ms         0.02%      15.691ms     137.642us       0.000us         0.00%      65.971ms     578.696us           114  \n",
      "                                         AddmmBackward0         0.00%       1.131ms         0.01%       9.651ms      84.657us       0.000us         0.00%      64.196ms     563.124us           114  \n",
      "       autograd::engine::evaluate_function: MmBackward0         0.00%     986.866us         0.01%       9.743ms      90.209us       0.000us         0.00%      60.754ms     562.540us           108  \n",
      "                                            MmBackward0         0.00%     948.525us         0.01%       8.756ms      81.072us       0.000us         0.00%      60.754ms     562.540us           108  \n",
      "                                            aten::copy_         2.48%        2.132s         2.55%        2.185s      55.205us      53.832ms        13.75%      53.832ms       1.360us         39586  \n",
      "                                               aten::to         0.05%      45.506ms         2.39%        2.048s      46.296us       0.000us         0.00%      51.430ms       1.163us         44231  \n",
      "                                         aten::_to_copy         0.14%     119.101ms         2.33%        2.002s      63.381us       0.000us         0.00%      51.430ms       1.628us         31590  \n",
      "                       Memcpy HtoD (Pageable -> Device)         0.00%       0.000us         0.00%       0.000us       0.000us      51.420ms        13.13%      51.420ms       8.570ms             6  \n",
      "                                           aten::linear         0.00%     767.976us         0.01%       9.974ms      44.930us       0.000us         0.00%      32.916ms     148.268us           222  \n",
      "                                ampere_sgemm_128x128_nn         0.00%       0.000us         0.00%       0.000us       0.000us      29.337ms         7.49%      29.337ms     114.599us           256  \n",
      "                                ampere_sgemm_128x128_tn         0.00%       0.000us         0.00%       0.000us       0.000us      25.711ms         6.57%      25.711ms     137.494us           187  \n",
      "                                              aten::bmm         1.56%        1.341s         1.57%        1.343s     691.726us      20.546ms         5.25%      20.546ms      10.580us          1942  \n",
      "                                            aten::addmm         0.00%       2.875ms         0.00%       3.833ms      33.620us      20.435ms         5.22%      20.435ms     179.256us           114  \n",
      "                                           aten::matmul         0.00%     951.103us         0.01%       6.962ms      38.676us       0.000us         0.00%      20.205ms     112.249us           180  \n",
      "                                  ampere_sgemm_64x64_tn         0.00%       0.000us         0.00%       0.000us       0.000us      16.458ms         4.20%      16.458ms     152.386us           108  \n",
      "      autograd::engine::evaluate_function: BmmBackward0         0.00%     792.558us         0.01%       5.525ms      76.736us       0.000us         0.00%      12.822ms     178.079us            72  \n",
      "                                           BmmBackward0         0.00%     518.938us         0.01%       4.732ms      65.728us       0.000us         0.00%      12.822ms     178.079us            72  \n",
      "autograd::engine::evaluate_function: NativeLayerNorm...         0.00%     641.700us         0.00%       3.107ms      86.314us       0.000us         0.00%       6.757ms     187.705us            36  \n",
      "                               NativeLayerNormBackward0         0.00%     192.919us         0.00%       1.914ms      53.155us       0.000us         0.00%       6.097ms     169.357us            36  \n",
      "                       aten::native_layer_norm_backward         0.00%     517.464us         0.00%       1.721ms      47.796us       6.097ms         1.56%       6.097ms     169.357us            36  \n",
      "                                ampere_sgemm_128x128_nt         0.00%       0.000us         0.00%       0.000us       0.000us       6.061ms         1.55%       6.061ms      70.479us            86  \n",
      "void at::native::(anonymous namespace)::GammaBetaBac...         0.00%       0.000us         0.00%       0.000us       0.000us       5.873ms         1.50%       5.873ms     136.587us            43  \n",
      "                        ampere_sgemm_64x32_sliced1x4_nt         0.00%       0.000us         0.00%       0.000us       0.000us       5.538ms         1.41%       5.538ms       1.385ms             4  \n",
      "                                       aten::layer_norm         0.00%      63.241us         0.00%       1.705ms      47.371us       0.000us         0.00%       5.239ms     145.528us            36  \n",
      "                                aten::native_layer_norm         0.00%     683.450us         0.00%       1.642ms      45.614us       5.239ms         1.34%       5.239ms     145.528us            36  \n",
      "void at::native::vectorized_elementwise_kernel<4, at...         0.00%       0.000us         0.00%       0.000us       0.000us       4.642ms         1.19%       4.642ms      19.026us           244  \n",
      "-------------------------------------------------------  ------------  ------------  ------------  ------------  ------------  ------------  ------------  ------------  ------------  ------------  \n",
      "Self CPU time total: 85.820s\n",
      "Self CUDA time total: 391.623ms\n",
      "\n"
     ]
    }
   ],
   "source": [
    "print(torch_profiler_summary.table(sort_by=\"cuda_time_total\", row_limit=30))"
   ]
  },
  {
   "cell_type": "markdown",
   "metadata": {},
   "source": [
    "В целом похоже на то, что совпадает - но в torch-профилере есть детализация поглубже и в нем операции объединяются по типу, а в моем по модулю.\n",
    "Но как будто бы более-менее похоже, линейный слой в атеншене - 250 наносекунд :)"
   ]
  }
 ],
 "metadata": {
  "kernelspec": {
   "display_name": "venv",
   "language": "python",
   "name": "venv"
  },
  "language_info": {
   "codemirror_mode": {
    "name": "ipython",
    "version": 3
   },
   "file_extension": ".py",
   "mimetype": "text/x-python",
   "name": "python",
   "nbconvert_exporter": "python",
   "pygments_lexer": "ipython3",
   "version": "3.10.12"
  }
 },
 "nbformat": 4,
 "nbformat_minor": 2
}
