{
 "cells": [
  {
   "cell_type": "code",
   "execution_count": 1,
   "metadata": {},
   "outputs": [
    {
     "name": "stdout",
     "output_type": "stream",
     "text": [
      "env: CUDA_VISIBLE_DEVICES=0 TOKENIZERS_PARALLELISM=true\n"
     ]
    }
   ],
   "source": [
    "%env CUDA_VISIBLE_DEVICES=0 TOKENIZERS_PARALLELISM=true"
   ]
  },
  {
   "cell_type": "markdown",
   "metadata": {},
   "source": [
    "### Task 1"
   ]
  },
  {
   "cell_type": "code",
   "execution_count": 2,
   "metadata": {},
   "outputs": [],
   "source": [
    "from task1.train import train"
   ]
  },
  {
   "cell_type": "code",
   "execution_count": 3,
   "metadata": {},
   "outputs": [
    {
     "name": "stderr",
     "output_type": "stream",
     "text": [
      "Loss: 0.6231 Accuracy: 92.0922: 100%|██████████| 40/40 [00:39<00:00,  1.00it/s]\n",
      "Loss: 0.6219 Accuracy: 90.974: 100%|██████████| 40/40 [00:39<00:00,  1.01it/s] \n",
      "Loss: 0.621 Accuracy: 92.521: 100%|██████████| 40/40 [00:39<00:00,  1.01it/s]  \n",
      "Loss: 0.6141 Accuracy: 93.0211: 100%|██████████| 40/40 [00:40<00:00,  1.02s/it]\n",
      "Loss: 0.6165 Accuracy: 92.918: 100%|██████████| 40/40 [00:39<00:00,  1.02it/s] \n"
     ]
    }
   ],
   "source": [
    "train(with_amp=False, scaler_type=None)"
   ]
  },
  {
   "cell_type": "code",
   "execution_count": 4,
   "metadata": {},
   "outputs": [
    {
     "name": "stderr",
     "output_type": "stream",
     "text": [
      "Loss: 0.6091 Accuracy: 95.3675: 100%|██████████| 40/40 [00:38<00:00,  1.05it/s]\n",
      "Loss: 0.5882 Accuracy: 97.2307: 100%|██████████| 40/40 [00:40<00:00,  1.02s/it]\n",
      "Loss: 0.5855 Accuracy: 98.028: 100%|██████████| 40/40 [00:37<00:00,  1.07it/s] \n",
      "Loss: 0.5875 Accuracy: 98.6241: 100%|██████████| 40/40 [00:39<00:00,  1.02it/s]\n",
      "Loss: 0.5857 Accuracy: 98.6872: 100%|██████████| 40/40 [00:38<00:00,  1.05it/s]\n"
     ]
    }
   ],
   "source": [
    "train(with_amp=True, scaler_type=\"static\")"
   ]
  },
  {
   "cell_type": "code",
   "execution_count": 5,
   "metadata": {},
   "outputs": [
    {
     "name": "stderr",
     "output_type": "stream",
     "text": [
      "Loss: 0.607 Accuracy: 94.4436: 100%|██████████| 40/40 [00:36<00:00,  1.11it/s] \n",
      "Loss: 0.5916 Accuracy: 97.7065: 100%|██████████| 40/40 [00:39<00:00,  1.02it/s]\n",
      "Loss: 0.5886 Accuracy: 98.324: 100%|██████████| 40/40 [00:37<00:00,  1.07it/s] \n",
      "Loss: 0.583 Accuracy: 98.5087: 100%|██████████| 40/40 [00:40<00:00,  1.00s/it] \n",
      "Loss: 0.5847 Accuracy: 98.7843: 100%|██████████| 40/40 [00:38<00:00,  1.05it/s]\n"
     ]
    }
   ],
   "source": [
    "train(with_amp=True, scaler_type=\"dynamic\")"
   ]
  },
  {
   "cell_type": "markdown",
   "metadata": {},
   "source": [
    "### Task 2"
   ]
  },
  {
   "cell_type": "code",
   "execution_count": 2,
   "metadata": {},
   "outputs": [],
   "source": [
    "from task2.run_epoch import run_epoch, DataMode\n",
    "from task2.dataset import get_texts"
   ]
  },
  {
   "cell_type": "code",
   "execution_count": 4,
   "metadata": {},
   "outputs": [],
   "source": [
    "data_path = \"task2/wikitext-103-raw-v1/train-00000-of-00002.txt\"\n",
    "texts = list(get_texts(data_path, max_lines=300000))"
   ]
  },
  {
   "cell_type": "code",
   "execution_count": 4,
   "metadata": {},
   "outputs": [
    {
     "name": "stderr",
     "output_type": "stream",
     "text": [
      "100%|██████████| 300001/300001 [01:10<00:00, 4261.77it/s]\n",
      "100%|██████████| 18751/18751 [31:05<00:00, 10.05it/s]\n"
     ]
    },
    {
     "data": {
      "text/html": [
       "<div>\n",
       "<style scoped>\n",
       "    .dataframe tbody tr th:only-of-type {\n",
       "        vertical-align: middle;\n",
       "    }\n",
       "\n",
       "    .dataframe tbody tr th {\n",
       "        vertical-align: top;\n",
       "    }\n",
       "\n",
       "    .dataframe thead th {\n",
       "        text-align: right;\n",
       "    }\n",
       "</style>\n",
       "<table border=\"1\" class=\"dataframe\">\n",
       "  <thead>\n",
       "    <tr style=\"text-align: right;\">\n",
       "      <th></th>\n",
       "      <th>pad_token_ratio</th>\n",
       "      <th>time</th>\n",
       "    </tr>\n",
       "  </thead>\n",
       "  <tbody>\n",
       "    <tr>\n",
       "      <th>count</th>\n",
       "      <td>18746.000000</td>\n",
       "      <td>18746.000000</td>\n",
       "    </tr>\n",
       "    <tr>\n",
       "      <th>mean</th>\n",
       "      <td>0.844768</td>\n",
       "      <td>0.099114</td>\n",
       "    </tr>\n",
       "    <tr>\n",
       "      <th>std</th>\n",
       "      <td>0.036115</td>\n",
       "      <td>0.001630</td>\n",
       "    </tr>\n",
       "    <tr>\n",
       "      <th>min</th>\n",
       "      <td>0.679980</td>\n",
       "      <td>0.032973</td>\n",
       "    </tr>\n",
       "    <tr>\n",
       "      <th>25%</th>\n",
       "      <td>0.821191</td>\n",
       "      <td>0.098730</td>\n",
       "    </tr>\n",
       "    <tr>\n",
       "      <th>50%</th>\n",
       "      <td>0.846289</td>\n",
       "      <td>0.098950</td>\n",
       "    </tr>\n",
       "    <tr>\n",
       "      <th>75%</th>\n",
       "      <td>0.869824</td>\n",
       "      <td>0.099207</td>\n",
       "    </tr>\n",
       "    <tr>\n",
       "      <th>max</th>\n",
       "      <td>0.966797</td>\n",
       "      <td>0.126127</td>\n",
       "    </tr>\n",
       "  </tbody>\n",
       "</table>\n",
       "</div>"
      ],
      "text/plain": [
       "       pad_token_ratio          time\n",
       "count     18746.000000  18746.000000\n",
       "mean          0.844768      0.099114\n",
       "std           0.036115      0.001630\n",
       "min           0.679980      0.032973\n",
       "25%           0.821191      0.098730\n",
       "50%           0.846289      0.098950\n",
       "75%           0.869824      0.099207\n",
       "max           0.966797      0.126127"
      ]
     },
     "execution_count": 4,
     "metadata": {},
     "output_type": "execute_result"
    }
   ],
   "source": [
    "run_epoch(DataMode.BRAIN, texts)"
   ]
  },
  {
   "cell_type": "code",
   "execution_count": 5,
   "metadata": {},
   "outputs": [
    {
     "name": "stderr",
     "output_type": "stream",
     "text": [
      "100%|██████████| 300001/300001 [01:13<00:00, 4096.46it/s]\n",
      "100%|██████████| 18751/18751 [14:33<00:00, 21.47it/s]\n"
     ]
    },
    {
     "data": {
      "text/html": [
       "<div>\n",
       "<style scoped>\n",
       "    .dataframe tbody tr th:only-of-type {\n",
       "        vertical-align: middle;\n",
       "    }\n",
       "\n",
       "    .dataframe tbody tr th {\n",
       "        vertical-align: top;\n",
       "    }\n",
       "\n",
       "    .dataframe thead th {\n",
       "        text-align: right;\n",
       "    }\n",
       "</style>\n",
       "<table border=\"1\" class=\"dataframe\">\n",
       "  <thead>\n",
       "    <tr style=\"text-align: right;\">\n",
       "      <th></th>\n",
       "      <th>pad_token_ratio</th>\n",
       "      <th>time</th>\n",
       "    </tr>\n",
       "  </thead>\n",
       "  <tbody>\n",
       "    <tr>\n",
       "      <th>count</th>\n",
       "      <td>18746.000000</td>\n",
       "      <td>18746.000000</td>\n",
       "    </tr>\n",
       "    <tr>\n",
       "      <th>mean</th>\n",
       "      <td>0.650151</td>\n",
       "      <td>0.046283</td>\n",
       "    </tr>\n",
       "    <tr>\n",
       "      <th>std</th>\n",
       "      <td>0.076858</td>\n",
       "      <td>0.012042</td>\n",
       "    </tr>\n",
       "    <tr>\n",
       "      <th>min</th>\n",
       "      <td>0.000000</td>\n",
       "      <td>0.015003</td>\n",
       "    </tr>\n",
       "    <tr>\n",
       "      <th>25%</th>\n",
       "      <td>0.599435</td>\n",
       "      <td>0.037296</td>\n",
       "    </tr>\n",
       "    <tr>\n",
       "      <th>50%</th>\n",
       "      <td>0.653017</td>\n",
       "      <td>0.043890</td>\n",
       "    </tr>\n",
       "    <tr>\n",
       "      <th>75%</th>\n",
       "      <td>0.704913</td>\n",
       "      <td>0.052716</td>\n",
       "    </tr>\n",
       "    <tr>\n",
       "      <th>max</th>\n",
       "      <td>0.880918</td>\n",
       "      <td>0.110691</td>\n",
       "    </tr>\n",
       "  </tbody>\n",
       "</table>\n",
       "</div>"
      ],
      "text/plain": [
       "       pad_token_ratio          time\n",
       "count     18746.000000  18746.000000\n",
       "mean          0.650151      0.046283\n",
       "std           0.076858      0.012042\n",
       "min           0.000000      0.015003\n",
       "25%           0.599435      0.037296\n",
       "50%           0.653017      0.043890\n",
       "75%           0.704913      0.052716\n",
       "max           0.880918      0.110691"
      ]
     },
     "execution_count": 5,
     "metadata": {},
     "output_type": "execute_result"
    }
   ],
   "source": [
    "run_epoch(DataMode.BIG_BRAIN, texts)"
   ]
  },
  {
   "cell_type": "code",
   "execution_count": 6,
   "metadata": {},
   "outputs": [
    {
     "name": "stderr",
     "output_type": "stream",
     "text": [
      "100%|██████████| 300001/300001 [01:12<00:00, 4112.77it/s]\n",
      "100%|██████████| 18751/18751 [14:37<00:00, 21.36it/s]\n"
     ]
    },
    {
     "data": {
      "text/html": [
       "<div>\n",
       "<style scoped>\n",
       "    .dataframe tbody tr th:only-of-type {\n",
       "        vertical-align: middle;\n",
       "    }\n",
       "\n",
       "    .dataframe tbody tr th {\n",
       "        vertical-align: top;\n",
       "    }\n",
       "\n",
       "    .dataframe thead th {\n",
       "        text-align: right;\n",
       "    }\n",
       "</style>\n",
       "<table border=\"1\" class=\"dataframe\">\n",
       "  <thead>\n",
       "    <tr style=\"text-align: right;\">\n",
       "      <th></th>\n",
       "      <th>pad_token_ratio</th>\n",
       "      <th>time</th>\n",
       "    </tr>\n",
       "  </thead>\n",
       "  <tbody>\n",
       "    <tr>\n",
       "      <th>count</th>\n",
       "      <td>18746.000000</td>\n",
       "      <td>18746.000000</td>\n",
       "    </tr>\n",
       "    <tr>\n",
       "      <th>mean</th>\n",
       "      <td>0.650458</td>\n",
       "      <td>0.046509</td>\n",
       "    </tr>\n",
       "    <tr>\n",
       "      <th>std</th>\n",
       "      <td>0.077305</td>\n",
       "      <td>0.012095</td>\n",
       "    </tr>\n",
       "    <tr>\n",
       "      <th>min</th>\n",
       "      <td>0.000000</td>\n",
       "      <td>0.012021</td>\n",
       "    </tr>\n",
       "    <tr>\n",
       "      <th>25%</th>\n",
       "      <td>0.599560</td>\n",
       "      <td>0.037486</td>\n",
       "    </tr>\n",
       "    <tr>\n",
       "      <th>50%</th>\n",
       "      <td>0.653737</td>\n",
       "      <td>0.044064</td>\n",
       "    </tr>\n",
       "    <tr>\n",
       "      <th>75%</th>\n",
       "      <td>0.704827</td>\n",
       "      <td>0.052992</td>\n",
       "    </tr>\n",
       "    <tr>\n",
       "      <th>max</th>\n",
       "      <td>0.895508</td>\n",
       "      <td>0.108156</td>\n",
       "    </tr>\n",
       "  </tbody>\n",
       "</table>\n",
       "</div>"
      ],
      "text/plain": [
       "       pad_token_ratio          time\n",
       "count     18746.000000  18746.000000\n",
       "mean          0.650458      0.046509\n",
       "std           0.077305      0.012095\n",
       "min           0.000000      0.012021\n",
       "25%           0.599560      0.037486\n",
       "50%           0.653737      0.044064\n",
       "75%           0.704827      0.052992\n",
       "max           0.895508      0.108156"
      ]
     },
     "execution_count": 6,
     "metadata": {},
     "output_type": "execute_result"
    }
   ],
   "source": [
    "run_epoch(DataMode.ULTRA_BIG_BRAIN, texts)"
   ]
  },
  {
   "cell_type": "code",
   "execution_count": 7,
   "metadata": {},
   "outputs": [
    {
     "name": "stderr",
     "output_type": "stream",
     "text": [
      "100%|██████████| 300001/300001 [01:15<00:00, 3962.88it/s]\n",
      "100%|██████████| 18817/18817 [06:34<00:00, 47.74it/s]\n"
     ]
    },
    {
     "data": {
      "text/html": [
       "<div>\n",
       "<style scoped>\n",
       "    .dataframe tbody tr th:only-of-type {\n",
       "        vertical-align: middle;\n",
       "    }\n",
       "\n",
       "    .dataframe tbody tr th {\n",
       "        vertical-align: top;\n",
       "    }\n",
       "\n",
       "    .dataframe thead th {\n",
       "        text-align: right;\n",
       "    }\n",
       "</style>\n",
       "<table border=\"1\" class=\"dataframe\">\n",
       "  <thead>\n",
       "    <tr style=\"text-align: right;\">\n",
       "      <th></th>\n",
       "      <th>pad_token_ratio</th>\n",
       "      <th>time</th>\n",
       "    </tr>\n",
       "  </thead>\n",
       "  <tbody>\n",
       "    <tr>\n",
       "      <th>count</th>\n",
       "      <td>18812.000000</td>\n",
       "      <td>18812.000000</td>\n",
       "    </tr>\n",
       "    <tr>\n",
       "      <th>mean</th>\n",
       "      <td>0.068673</td>\n",
       "      <td>0.020735</td>\n",
       "    </tr>\n",
       "    <tr>\n",
       "      <th>std</th>\n",
       "      <td>0.071873</td>\n",
       "      <td>0.013861</td>\n",
       "    </tr>\n",
       "    <tr>\n",
       "      <th>min</th>\n",
       "      <td>0.000000</td>\n",
       "      <td>0.006112</td>\n",
       "    </tr>\n",
       "    <tr>\n",
       "      <th>25%</th>\n",
       "      <td>0.012083</td>\n",
       "      <td>0.007663</td>\n",
       "    </tr>\n",
       "    <tr>\n",
       "      <th>50%</th>\n",
       "      <td>0.022727</td>\n",
       "      <td>0.018079</td>\n",
       "    </tr>\n",
       "    <tr>\n",
       "      <th>75%</th>\n",
       "      <td>0.143750</td>\n",
       "      <td>0.028911</td>\n",
       "    </tr>\n",
       "    <tr>\n",
       "      <th>max</th>\n",
       "      <td>0.262500</td>\n",
       "      <td>0.099670</td>\n",
       "    </tr>\n",
       "  </tbody>\n",
       "</table>\n",
       "</div>"
      ],
      "text/plain": [
       "       pad_token_ratio          time\n",
       "count     18812.000000  18812.000000\n",
       "mean          0.068673      0.020735\n",
       "std           0.071873      0.013861\n",
       "min           0.000000      0.006112\n",
       "25%           0.012083      0.007663\n",
       "50%           0.022727      0.018079\n",
       "75%           0.143750      0.028911\n",
       "max           0.262500      0.099670"
      ]
     },
     "execution_count": 7,
     "metadata": {},
     "output_type": "execute_result"
    }
   ],
   "source": [
    "run_epoch(DataMode.ULTRA_BIG_BRAIN, texts, k=5)"
   ]
  },
  {
   "cell_type": "code",
   "execution_count": 5,
   "metadata": {},
   "outputs": [
    {
     "name": "stderr",
     "output_type": "stream",
     "text": [
      "100%|██████████| 300001/300001 [01:05<00:00, 4596.88it/s]\n"
     ]
    },
    {
     "data": {
      "text/html": [
       "<div>\n",
       "<style scoped>\n",
       "    .dataframe tbody tr th:only-of-type {\n",
       "        vertical-align: middle;\n",
       "    }\n",
       "\n",
       "    .dataframe tbody tr th {\n",
       "        vertical-align: top;\n",
       "    }\n",
       "\n",
       "    .dataframe thead th {\n",
       "        text-align: right;\n",
       "    }\n",
       "</style>\n",
       "<table border=\"1\" class=\"dataframe\">\n",
       "  <thead>\n",
       "    <tr style=\"text-align: right;\">\n",
       "      <th></th>\n",
       "      <th>pad_token_ratio</th>\n",
       "      <th>time</th>\n",
       "    </tr>\n",
       "  </thead>\n",
       "  <tbody>\n",
       "    <tr>\n",
       "      <th>count</th>\n",
       "      <td>5714.0</td>\n",
       "      <td>5714.000000</td>\n",
       "    </tr>\n",
       "    <tr>\n",
       "      <th>mean</th>\n",
       "      <td>0.0</td>\n",
       "      <td>0.160782</td>\n",
       "    </tr>\n",
       "    <tr>\n",
       "      <th>std</th>\n",
       "      <td>0.0</td>\n",
       "      <td>0.004858</td>\n",
       "    </tr>\n",
       "    <tr>\n",
       "      <th>min</th>\n",
       "      <td>0.0</td>\n",
       "      <td>0.084369</td>\n",
       "    </tr>\n",
       "    <tr>\n",
       "      <th>25%</th>\n",
       "      <td>0.0</td>\n",
       "      <td>0.158971</td>\n",
       "    </tr>\n",
       "    <tr>\n",
       "      <th>50%</th>\n",
       "      <td>0.0</td>\n",
       "      <td>0.161484</td>\n",
       "    </tr>\n",
       "    <tr>\n",
       "      <th>75%</th>\n",
       "      <td>0.0</td>\n",
       "      <td>0.163772</td>\n",
       "    </tr>\n",
       "    <tr>\n",
       "      <th>max</th>\n",
       "      <td>0.0</td>\n",
       "      <td>0.219913</td>\n",
       "    </tr>\n",
       "  </tbody>\n",
       "</table>\n",
       "</div>"
      ],
      "text/plain": [
       "       pad_token_ratio         time\n",
       "count           5714.0  5714.000000\n",
       "mean               0.0     0.160782\n",
       "std                0.0     0.004858\n",
       "min                0.0     0.084369\n",
       "25%                0.0     0.158971\n",
       "50%                0.0     0.161484\n",
       "75%                0.0     0.163772\n",
       "max                0.0     0.219913"
      ]
     },
     "execution_count": 5,
     "metadata": {},
     "output_type": "execute_result"
    }
   ],
   "source": [
    "run_epoch(DataMode.ULTRA_DUPER_BIG_BRAIN, texts)"
   ]
  },
  {
   "cell_type": "markdown",
   "metadata": {},
   "source": [
    "### Task 3"
   ]
  },
  {
   "cell_type": "code",
   "execution_count": 1,
   "metadata": {},
   "outputs": [],
   "source": [
    "from task3.run_epoch import profile_vit"
   ]
  },
  {
   "cell_type": "code",
   "execution_count": 2,
   "metadata": {},
   "outputs": [
    {
     "name": "stdout",
     "output_type": "stream",
     "text": [
      "Dataset already extracted\n",
      "Train Data: 4322\n",
      "Val Data: 1081\n"
     ]
    },
    {
     "name": "stderr",
     "output_type": "stream",
     "text": [
      "Train:  75%|███████▌  | 3/4 [01:41<00:33, 33.93s/it]\n"
     ]
    }
   ],
   "source": [
    "own_profiler_summary = profile_vit(\"own\")"
   ]
  },
  {
   "cell_type": "code",
   "execution_count": 3,
   "metadata": {},
   "outputs": [
    {
     "data": {
      "text/html": [
       "<div>\n",
       "<style scoped>\n",
       "    .dataframe tbody tr th:only-of-type {\n",
       "        vertical-align: middle;\n",
       "    }\n",
       "\n",
       "    .dataframe tbody tr th {\n",
       "        vertical-align: top;\n",
       "    }\n",
       "\n",
       "    .dataframe thead th {\n",
       "        text-align: right;\n",
       "    }\n",
       "</style>\n",
       "<table border=\"1\" class=\"dataframe\">\n",
       "  <thead>\n",
       "    <tr style=\"text-align: right;\">\n",
       "      <th></th>\n",
       "      <th></th>\n",
       "      <th>duration (ms)</th>\n",
       "    </tr>\n",
       "    <tr>\n",
       "      <th>function</th>\n",
       "      <th>module</th>\n",
       "      <th></th>\n",
       "    </tr>\n",
       "  </thead>\n",
       "  <tbody>\n",
       "    <tr>\n",
       "      <th rowspan=\"5\" valign=\"top\">backward</th>\n",
       "      <th>BatchNorm1d</th>\n",
       "      <td>0.110251</td>\n",
       "    </tr>\n",
       "    <tr>\n",
       "      <th>Dropout</th>\n",
       "      <td>0.003002</td>\n",
       "    </tr>\n",
       "    <tr>\n",
       "      <th>GELU</th>\n",
       "      <td>0.024946</td>\n",
       "    </tr>\n",
       "    <tr>\n",
       "      <th>Identity</th>\n",
       "      <td>0.026965</td>\n",
       "    </tr>\n",
       "    <tr>\n",
       "      <th>LayerNorm</th>\n",
       "      <td>0.172772</td>\n",
       "    </tr>\n",
       "    <tr>\n",
       "      <th>...</th>\n",
       "      <th>...</th>\n",
       "      <td>...</td>\n",
       "    </tr>\n",
       "    <tr>\n",
       "      <th rowspan=\"5\" valign=\"top\">forward</th>\n",
       "      <th>transformer.layers.9.0.to_out: Sequential</th>\n",
       "      <td>0.281259</td>\n",
       "    </tr>\n",
       "    <tr>\n",
       "      <th>transformer.layers.9.0: Attention</th>\n",
       "      <td>1.154389</td>\n",
       "    </tr>\n",
       "    <tr>\n",
       "      <th>transformer.layers.9.1.net: Sequential</th>\n",
       "      <td>0.807253</td>\n",
       "    </tr>\n",
       "    <tr>\n",
       "      <th>transformer.layers.9.1: FeedForward</th>\n",
       "      <td>0.902144</td>\n",
       "    </tr>\n",
       "    <tr>\n",
       "      <th>transformer: Transformer</th>\n",
       "      <td>26.482688</td>\n",
       "    </tr>\n",
       "  </tbody>\n",
       "</table>\n",
       "<p>117 rows × 1 columns</p>\n",
       "</div>"
      ],
      "text/plain": [
       "                                                    duration (ms)\n",
       "function module                                                  \n",
       "backward BatchNorm1d                                     0.110251\n",
       "         Dropout                                         0.003002\n",
       "         GELU                                            0.024946\n",
       "         Identity                                        0.026965\n",
       "         LayerNorm                                       0.172772\n",
       "...                                                           ...\n",
       "forward  transformer.layers.9.0.to_out: Sequential       0.281259\n",
       "         transformer.layers.9.0: Attention               1.154389\n",
       "         transformer.layers.9.1.net: Sequential          0.807253\n",
       "         transformer.layers.9.1: FeedForward             0.902144\n",
       "         transformer: Transformer                       26.482688\n",
       "\n",
       "[117 rows x 1 columns]"
      ]
     },
     "execution_count": 3,
     "metadata": {},
     "output_type": "execute_result"
    }
   ],
   "source": [
    "own_profiler_summary"
   ]
  },
  {
   "cell_type": "code",
   "execution_count": 2,
   "metadata": {},
   "outputs": [
    {
     "name": "stdout",
     "output_type": "stream",
     "text": [
      "Dataset already extracted\n",
      "Train Data: 4322\n",
      "Val Data: 1081\n"
     ]
    },
    {
     "name": "stderr",
     "output_type": "stream",
     "text": [
      "Train:  18%|█▊        | 3/17 [02:29<11:35, 49.67s/it]\n"
     ]
    },
    {
     "name": "stdout",
     "output_type": "stream",
     "text": [
      "-------------------------------------------------------  ------------  ------------  ------------  ------------  ------------  ------------  ------------  ------------  ------------  ------------  \n",
      "                                                   Name    Self CPU %      Self CPU   CPU total %     CPU total  CPU time avg     Self CUDA   Self CUDA %    CUDA total  CUDA time avg    # of Calls  \n",
      "-------------------------------------------------------  ------------  ------------  ------------  ------------  ------------  ------------  ------------  ------------  ------------  ------------  \n",
      "                                               aten::mm         0.01%       9.130ms         0.02%      14.367ms      26.169us     137.449ms        34.49%     137.449ms     250.363us           549  \n",
      "                                          ProfilerStep*         0.00%       0.000us         0.00%       0.000us       0.000us     124.229ms        31.17%     124.229ms      41.410ms             3  \n",
      "                                          ProfilerStep*         0.21%     181.664ms        99.91%       87.792s       29.264s       0.000us         0.00%     121.000ms      40.333ms             3  \n",
      "void cutlass::Kernel<cutlass_80_simt_sgemm_32x128_8x...         0.00%       0.000us         0.00%       0.000us       0.000us      95.678ms        24.01%      95.678ms     442.954us           216  \n",
      "                                            aten::copy_         4.64%        4.074s         4.72%        4.145s     104.708us      71.899ms        18.04%      71.899ms       1.816us         39586  \n",
      "                                               aten::to         0.05%      42.291ms         4.33%        3.807s      86.068us       0.000us         0.00%      69.489ms       1.571us         44231  \n",
      "                                         aten::_to_copy         0.13%     111.496ms         4.28%        3.765s     119.170us       0.000us         0.00%      69.489ms       2.200us         31590  \n",
      "                       Memcpy HtoD (Pageable -> Device)         0.00%       0.000us         0.00%       0.000us       0.000us      69.479ms        17.43%      69.479ms      11.580ms             6  \n",
      "    autograd::engine::evaluate_function: AddmmBackward0         0.00%       1.656ms         0.02%      14.236ms     124.876us       0.000us         0.00%      65.997ms     578.924us           114  \n",
      "                                         AddmmBackward0         0.00%       1.079ms         0.01%       8.914ms      78.191us       0.000us         0.00%      64.214ms     563.285us           114  \n",
      "       autograd::engine::evaluate_function: MmBackward0         0.00%     907.000us         0.01%       8.609ms      79.708us       0.000us         0.00%      60.753ms     562.525us           108  \n",
      "                                            MmBackward0         0.00%     928.593us         0.01%       7.702ms      71.310us       0.000us         0.00%      60.753ms     562.525us           108  \n",
      "                                           aten::linear         0.00%     790.787us         0.01%      10.822ms      48.748us       0.000us         0.00%      33.025ms     148.763us           222  \n",
      "                                ampere_sgemm_128x128_nn         0.00%       0.000us         0.00%       0.000us       0.000us      24.758ms         6.21%      24.758ms     114.620us           216  \n",
      "                                ampere_sgemm_128x128_tn         0.00%       0.000us         0.00%       0.000us       0.000us      24.543ms         6.16%      24.543ms     136.349us           180  \n",
      "                                              aten::bmm         0.75%     661.630ms         0.76%     663.712ms     341.767us      20.547ms         5.16%      20.547ms      10.580us          1942  \n",
      "                                            aten::addmm         0.00%       2.998ms         0.01%       4.431ms      38.868us      20.543ms         5.16%      20.543ms     180.206us           114  \n",
      "                                           aten::matmul         0.00%     963.084us         0.01%       7.153ms      39.739us       0.000us         0.00%      20.209ms     112.273us           180  \n",
      "                                  ampere_sgemm_64x64_tn         0.00%       0.000us         0.00%       0.000us       0.000us      16.540ms         4.15%      16.540ms     153.146us           108  \n",
      "      autograd::engine::evaluate_function: BmmBackward0         0.00%     777.549us         0.01%       4.949ms      68.730us       0.000us         0.00%      12.820ms     178.054us            72  \n",
      "                                           BmmBackward0         0.00%     489.626us         0.00%       4.171ms      57.931us       0.000us         0.00%      12.820ms     178.054us            72  \n",
      "autograd::engine::evaluate_function: NativeLayerNorm...         0.00%     605.615us         0.00%       2.740ms      76.114us       0.000us         0.00%       6.761ms     187.813us            36  \n",
      "                               NativeLayerNormBackward0         0.00%     209.843us         0.00%       1.656ms      45.992us       0.000us         0.00%       6.097ms     169.359us            36  \n",
      "                       aten::native_layer_norm_backward         0.00%     442.784us         0.00%       1.446ms      40.163us       6.097ms         1.53%       6.097ms     169.359us            36  \n",
      "                                       aten::layer_norm         0.00%      61.029us         0.00%       1.771ms      49.181us       0.000us         0.00%       5.242ms     145.602us            36  \n",
      "                                aten::native_layer_norm         0.00%     688.913us         0.00%       1.709ms      47.486us       5.242ms         1.32%       5.242ms     145.602us            36  \n",
      "                                ampere_sgemm_128x128_nt         0.00%       0.000us         0.00%       0.000us       0.000us       5.074ms         1.27%       5.074ms      70.479us            72  \n",
      "void at::native::(anonymous namespace)::GammaBetaBac...         0.00%       0.000us         0.00%       0.000us       0.000us       4.916ms         1.23%       4.916ms     136.567us            36  \n",
      "void at::native::(anonymous namespace)::RowwiseMomen...         0.00%       0.000us         0.00%       0.000us       0.000us       4.501ms         1.13%       4.501ms     125.019us            36  \n",
      "                        ampere_sgemm_64x32_sliced1x4_nt         0.00%       0.000us         0.00%       0.000us       0.000us       4.154ms         1.04%       4.154ms       1.385ms             3  \n",
      "void at::native::vectorized_elementwise_kernel<4, at...         0.00%       0.000us         0.00%       0.000us       0.000us       4.150ms         1.04%       4.150ms      19.211us           216  \n",
      "                                 ampere_sgemm_128x64_tn         0.00%       0.000us         0.00%       0.000us       0.000us       3.963ms         0.99%       3.963ms       1.321ms             3  \n",
      "void magma_sgemmEx_kernel<float, float, float, false...         0.00%       0.000us         0.00%       0.000us       0.000us       3.412ms         0.86%       3.412ms      47.385us            72  \n",
      "                                             aten::add_         0.41%     359.194ms         0.41%     360.118ms     125.302us       2.587ms         0.65%       2.587ms       0.900us          2874  \n",
      "void at::native::elementwise_kernel<128, 2, at::nati...         0.00%       0.000us         0.00%       0.000us       0.000us       2.351ms         0.59%       2.351ms      52.250us            45  \n",
      "                                          aten::reshape         0.02%      14.447ms         0.03%      28.301ms       2.925us       0.000us         0.00%       2.340ms       0.242us          9674  \n",
      "                                            aten::clone         0.01%       8.224ms         0.34%     296.604ms     120.669us       0.000us         0.00%       2.340ms       0.952us          2458  \n",
      "                               Optimizer.step#Adam.step         0.00%       0.000us         0.00%       0.000us       0.000us       1.956ms         0.49%       1.956ms     652.099us             3  \n",
      "     autograd::engine::evaluate_function: ViewBackward0         0.00%       2.049ms         0.01%       5.703ms      13.021us       0.000us         0.00%       1.910ms       4.362us           438  \n",
      "                               Optimizer.step#Adam.step         0.01%       5.553ms         0.01%      10.780ms       3.593ms       0.000us         0.00%       1.898ms     632.729us             3  \n",
      "                                              aten::sum         0.04%      33.573ms         0.04%      39.509ms      11.748us       1.834ms         0.46%       1.834ms       0.545us          3363  \n",
      "void at::native::reduce_kernel<512, 1, at::native::R...         0.00%       0.000us         0.00%       0.000us       0.000us       1.622ms         0.41%       1.622ms      14.227us           114  \n",
      "                                              aten::add         0.56%     489.585ms         0.56%     490.230ms     125.571us       1.621ms         0.41%       1.621ms       0.415us          3904  \n",
      "autograd::engine::evaluate_function: UnsafeViewBackw...         0.00%     752.786us         0.00%       2.709ms      15.048us       0.000us         0.00%       1.538ms       8.545us           180  \n",
      "                                    UnsafeViewBackward0         0.00%     310.404us         0.00%       1.956ms      10.866us       0.000us         0.00%       1.538ms       8.545us           180  \n",
      "void at::native::(anonymous namespace)::layer_norm_g...         0.00%       0.000us         0.00%       0.000us       0.000us       1.181ms         0.30%       1.181ms      32.792us            36  \n",
      "     autograd::engine::evaluate_function: GeluBackward0         0.00%     278.623us         0.00%       1.178ms      32.723us       0.000us         0.00%     750.533us      20.848us            36  \n",
      "                                          GeluBackward0         0.00%     113.843us         0.00%     899.399us      24.983us       0.000us         0.00%     750.533us      20.848us            36  \n",
      "                                    aten::gelu_backward         0.00%     467.449us         0.00%     785.556us      21.821us     750.533us         0.19%     750.533us      20.848us            36  \n",
      "void at::native::vectorized_elementwise_kernel<4, at...         0.00%       0.000us         0.00%       0.000us       0.000us     750.533us         0.19%     750.533us      20.848us            36  \n",
      "void at::native::(anonymous namespace)::LayerNormFor...         0.00%       0.000us         0.00%       0.000us       0.000us     740.962us         0.19%     740.962us      20.582us            36  \n",
      "                                             aten::gelu         0.00%     500.667us         0.00%     741.118us      20.587us     557.540us         0.14%     557.540us      15.487us            36  \n",
      "void at::native::vectorized_elementwise_kernel<4, at...         0.00%       0.000us         0.00%       0.000us       0.000us     557.540us         0.14%     557.540us      15.487us            36  \n",
      "                                              aten::mul         2.01%        1.767s         4.18%        3.677s     366.835us     494.426us         0.12%     494.426us       0.049us         10023  \n",
      "                                        Memset (Device)         0.00%       0.000us         0.00%       0.000us       0.000us     488.635us         0.12%     488.635us       1.494us           327  \n",
      "autograd::engine::evaluate_function: SoftmaxBackward...         0.00%     204.754us         0.00%       1.572ms      43.666us       0.000us         0.00%     386.393us      10.733us            36  \n",
      "                                       SoftmaxBackward0         0.00%     106.986us         0.00%       1.367ms      37.978us       0.000us         0.00%     386.393us      10.733us            36  \n",
      "                           aten::_softmax_backward_data         0.00%     445.733us         0.00%       1.260ms      35.006us     187.678us         0.05%     386.393us      10.733us            36  \n",
      "                                aten::_foreach_addcdiv_         0.00%     374.482us         0.00%     445.626us     148.542us     385.090us         0.10%     385.090us     128.363us             3  \n",
      "void at::native::(anonymous namespace)::multi_tensor...         0.00%       0.000us         0.00%       0.000us       0.000us     385.090us         0.10%     385.090us      42.788us             9  \n",
      "                                    aten::_foreach_sqrt         0.00%     537.824us         0.00%       2.297ms     765.831us     346.146us         0.09%     346.146us     115.382us             3  \n",
      "void at::native::(anonymous namespace)::multi_tensor...         0.00%       0.000us         0.00%       0.000us       0.000us     346.146us         0.09%     346.146us      38.461us             9  \n",
      "                                aten::_foreach_addcmul_         0.00%     280.279us         0.00%     352.132us     117.377us     321.215us         0.08%     321.215us     107.072us             3  \n",
      "void at::native::(anonymous namespace)::multi_tensor...         0.00%       0.000us         0.00%       0.000us       0.000us     321.215us         0.08%     321.215us      35.691us             9  \n",
      "                                   aten::_foreach_lerp_         0.00%      91.723us         0.00%     163.286us      54.429us     314.884us         0.08%     314.884us     104.961us             3  \n",
      "void at::native::(anonymous namespace)::multi_tensor...         0.00%       0.000us         0.00%       0.000us       0.000us     314.884us         0.08%     314.884us      34.987us             9  \n",
      "void at::native::vectorized_elementwise_kernel<4, at...         0.00%       0.000us         0.00%       0.000us       0.000us     295.711us         0.07%     295.711us       4.107us            72  \n",
      "                                          aten::softmax         0.00%      64.761us         0.00%     723.776us      20.105us       0.000us         0.00%     218.625us       6.073us            36  \n",
      "                                         aten::_softmax         0.00%     442.417us         0.00%     659.015us      18.306us     218.625us         0.05%     218.625us       6.073us            36  \n",
      "void (anonymous namespace)::softmax_warp_forward<flo...         0.00%       0.000us         0.00%       0.000us       0.000us     218.625us         0.05%     218.625us       6.073us            36  \n",
      "void at::native::vectorized_elementwise_kernel<4, at...         0.00%       0.000us         0.00%       0.000us       0.000us     198.715us         0.05%     198.715us       5.520us            36  \n",
      "                                    aten::_foreach_div_         0.00%     221.941us         0.00%     283.643us      94.548us     196.514us         0.05%     196.514us      65.505us             3  \n",
      "void at::native::(anonymous namespace)::multi_tensor...         0.00%       0.000us         0.00%       0.000us       0.000us     196.514us         0.05%     196.514us      32.752us             6  \n",
      "                                    aten::_foreach_mul_         0.00%     242.767us         0.00%     311.876us     103.959us     195.745us         0.05%     195.745us      65.248us             3  \n",
      "void at::native::(anonymous namespace)::multi_tensor...         0.00%       0.000us         0.00%       0.000us       0.000us     195.745us         0.05%     195.745us      32.624us             6  \n",
      "void (anonymous namespace)::softmax_warp_backward<fl...         0.00%       0.000us         0.00%       0.000us       0.000us     187.678us         0.05%     187.678us       5.213us            36  \n",
      "                                    aten::_foreach_add_         0.00%     526.857us         0.00%     841.809us     140.302us     138.594us         0.03%     138.594us      23.099us             6  \n",
      "void at::native::(anonymous namespace)::multi_tensor...         0.00%       0.000us         0.00%       0.000us       0.000us     138.594us         0.03%     138.594us      23.099us             6  \n",
      "      autograd::engine::evaluate_function: MulBackward0         0.00%     198.325us         0.00%     880.713us      24.464us       0.000us         0.00%     137.983us       3.833us            36  \n",
      "                                           MulBackward0         0.00%      94.475us         0.00%     682.388us      18.955us       0.000us         0.00%     137.983us       3.833us            36  \n",
      "                                              aten::cat         0.32%     283.774ms         0.33%     286.756ms     429.275us     100.448us         0.03%     100.448us       0.150us           668  \n",
      "void at::native::(anonymous namespace)::CatArrayBatc...         0.00%       0.000us         0.00%       0.000us       0.000us     100.448us         0.03%     100.448us      33.483us             3  \n",
      "    autograd::engine::evaluate_function: SliceBackward0         0.00%      37.230us         0.00%     393.069us      65.511us       0.000us         0.00%      88.450us      14.742us             6  \n",
      "                                         SliceBackward0         0.00%      16.973us         0.00%     355.839us      59.306us       0.000us         0.00%      88.450us      14.742us             6  \n",
      "                                   aten::slice_backward         0.00%      48.210us         0.00%     338.866us      56.478us       0.000us         0.00%      88.450us      14.742us             6  \n",
      "autograd::engine::evaluate_function: NativeBatchNorm...         0.00%      66.676us         0.00%     392.067us     130.689us       0.000us         0.00%      72.449us      24.150us             3  \n",
      "                               NativeBatchNormBackward0         0.00%      30.777us         0.00%     325.391us     108.464us       0.000us         0.00%      72.449us      24.150us             3  \n",
      "                       aten::native_batch_norm_backward         0.00%      99.318us         0.00%     294.614us      98.205us      72.449us         0.02%      72.449us      24.150us             3  \n",
      "void at::native::batch_norm_backward_kernel<float, f...         0.00%       0.000us         0.00%       0.000us       0.000us      72.449us         0.02%      72.449us      24.150us             3  \n",
      "                                            aten::fill_         0.13%     111.233ms         0.13%     111.476ms      11.794us      65.087us         0.02%      65.087us       0.007us          9452  \n",
      "void at::native::vectorized_elementwise_kernel<4, at...         0.00%       0.000us         0.00%       0.000us       0.000us      65.087us         0.02%      65.087us       4.339us            15  \n",
      "                                            aten::zero_         0.00%       2.040ms         0.03%      22.771ms       5.094us       0.000us         0.00%      59.519us       0.013us          4470  \n",
      "                                       aten::batch_norm         0.00%      10.359us         0.00%     346.450us     115.483us       0.000us         0.00%      58.400us      19.467us             3  \n",
      "                           aten::_batch_norm_impl_index         0.00%      21.510us         0.00%     336.091us     112.030us       0.000us         0.00%      58.400us      19.467us             3  \n",
      "                                aten::native_batch_norm         0.00%     154.842us         0.00%     298.992us      99.664us      58.400us         0.01%      58.400us      19.467us             3  \n",
      "                         Memcpy DtoD (Device -> Device)         0.00%       0.000us         0.00%       0.000us       0.000us      58.113us         0.01%      58.113us       9.685us             6  \n",
      "                                            aten::zeros         0.01%       7.871ms         0.01%      12.079ms       2.965us       0.000us         0.00%      53.921us       0.013us          4074  \n",
      "void at::native::elementwise_kernel<128, 2, at::nati...         0.00%       0.000us         0.00%       0.000us       0.000us      50.336us         0.01%      50.336us      16.779us             3  \n",
      "                                          ViewBackward0         0.00%     799.576us         0.00%       2.086ms       4.763us       0.000us         0.00%      46.368us       0.106us           438  \n",
      "                        ampere_sgemm_32x32_sliced1x4_tn         0.00%       0.000us         0.00%       0.000us       0.000us      40.417us         0.01%      40.417us      13.472us             3  \n",
      "-------------------------------------------------------  ------------  ------------  ------------  ------------  ------------  ------------  ------------  ------------  ------------  ------------  \n",
      "Self CPU time total: 87.873s\n",
      "Self CUDA time total: 398.515ms\n",
      "\n"
     ]
    }
   ],
   "source": [
    "torch_profiler_summary = profile_vit(\"torch\")\n",
    "print(torch_profiler_summary)"
   ]
  }
 ],
 "metadata": {
  "kernelspec": {
   "display_name": "venv",
   "language": "python",
   "name": "venv"
  },
  "language_info": {
   "codemirror_mode": {
    "name": "ipython",
    "version": 3
   },
   "file_extension": ".py",
   "mimetype": "text/x-python",
   "name": "python",
   "nbconvert_exporter": "python",
   "pygments_lexer": "ipython3",
   "version": "3.10.12"
  }
 },
 "nbformat": 4,
 "nbformat_minor": 2
}
